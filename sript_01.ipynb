{
  "nbformat": 4,
  "nbformat_minor": 0,
  "metadata": {
    "colab": {
      "name": "sript_01.ipynb",
      "provenance": [],
      "collapsed_sections": [],
      "authorship_tag": "ABX9TyPJ8g8XuPAx8XAsojNoqCDT",
      "include_colab_link": true
    },
    "kernelspec": {
      "name": "python3",
      "display_name": "Python 3"
    }
  },
  "cells": [
    {
      "cell_type": "markdown",
      "metadata": {
        "id": "view-in-github",
        "colab_type": "text"
      },
      "source": [
        "<a href=\"https://colab.research.google.com/github/giordanap/Udemy-Machine_Learning/blob/main/sript_01.ipynb\" target=\"_parent\"><img src=\"https://colab.research.google.com/assets/colab-badge.svg\" alt=\"Open In Colab\"/></a>"
      ]
    },
    {
      "cell_type": "code",
      "metadata": {
        "id": "M-tZ4VoZBak3",
        "colab": {
          "base_uri": "https://localhost:8080/"
        },
        "outputId": "ccc5c06f-2b84-4326-a335-ba13d5f81903"
      },
      "source": [
        "# librerías\n",
        "import pandas as pd\n",
        "\n",
        "# importar archivo de google drive\n",
        "from google.colab import drive\n",
        "import os\n",
        "drive.mount('/content/drive/')\n",
        "# os.getcwd()\n",
        "os.chdir('/content/drive/My Drive/Academico/Udemy/GitHub/datasets/')"
      ],
      "execution_count": null,
      "outputs": [
        {
          "output_type": "stream",
          "text": [
            "Mounted at /content/drive/\n"
          ],
          "name": "stdout"
        }
      ]
    },
    {
      "cell_type": "code",
      "metadata": {
        "id": "Y_uJp5NLAnKm"
      },
      "source": [
        "# Lectura de datos\n",
        "data = pd.read_csv('titanic/titanic3.csv')"
      ],
      "execution_count": null,
      "outputs": []
    },
    {
      "cell_type": "code",
      "metadata": {
        "colab": {
          "base_uri": "https://localhost:8080/",
          "height": 272
        },
        "id": "BsCYty42Ccq2",
        "outputId": "ad1226c6-1a1c-4b18-af17-46e5d68f30cf"
      },
      "source": [
        "data.head()"
      ],
      "execution_count": null,
      "outputs": [
        {
          "output_type": "execute_result",
          "data": {
            "text/html": [
              "<div>\n",
              "<style scoped>\n",
              "    .dataframe tbody tr th:only-of-type {\n",
              "        vertical-align: middle;\n",
              "    }\n",
              "\n",
              "    .dataframe tbody tr th {\n",
              "        vertical-align: top;\n",
              "    }\n",
              "\n",
              "    .dataframe thead th {\n",
              "        text-align: right;\n",
              "    }\n",
              "</style>\n",
              "<table border=\"1\" class=\"dataframe\">\n",
              "  <thead>\n",
              "    <tr style=\"text-align: right;\">\n",
              "      <th></th>\n",
              "      <th>pclass</th>\n",
              "      <th>survived</th>\n",
              "      <th>name</th>\n",
              "      <th>sex</th>\n",
              "      <th>age</th>\n",
              "      <th>sibsp</th>\n",
              "      <th>parch</th>\n",
              "      <th>ticket</th>\n",
              "      <th>fare</th>\n",
              "      <th>cabin</th>\n",
              "      <th>embarked</th>\n",
              "      <th>boat</th>\n",
              "      <th>body</th>\n",
              "      <th>home.dest</th>\n",
              "    </tr>\n",
              "  </thead>\n",
              "  <tbody>\n",
              "    <tr>\n",
              "      <th>0</th>\n",
              "      <td>1</td>\n",
              "      <td>1</td>\n",
              "      <td>Allen, Miss. Elisabeth Walton</td>\n",
              "      <td>female</td>\n",
              "      <td>29.0000</td>\n",
              "      <td>0</td>\n",
              "      <td>0</td>\n",
              "      <td>24160</td>\n",
              "      <td>211.3375</td>\n",
              "      <td>B5</td>\n",
              "      <td>S</td>\n",
              "      <td>2</td>\n",
              "      <td>NaN</td>\n",
              "      <td>St Louis, MO</td>\n",
              "    </tr>\n",
              "    <tr>\n",
              "      <th>1</th>\n",
              "      <td>1</td>\n",
              "      <td>1</td>\n",
              "      <td>Allison, Master. Hudson Trevor</td>\n",
              "      <td>male</td>\n",
              "      <td>0.9167</td>\n",
              "      <td>1</td>\n",
              "      <td>2</td>\n",
              "      <td>113781</td>\n",
              "      <td>151.5500</td>\n",
              "      <td>C22 C26</td>\n",
              "      <td>S</td>\n",
              "      <td>11</td>\n",
              "      <td>NaN</td>\n",
              "      <td>Montreal, PQ / Chesterville, ON</td>\n",
              "    </tr>\n",
              "    <tr>\n",
              "      <th>2</th>\n",
              "      <td>1</td>\n",
              "      <td>0</td>\n",
              "      <td>Allison, Miss. Helen Loraine</td>\n",
              "      <td>female</td>\n",
              "      <td>2.0000</td>\n",
              "      <td>1</td>\n",
              "      <td>2</td>\n",
              "      <td>113781</td>\n",
              "      <td>151.5500</td>\n",
              "      <td>C22 C26</td>\n",
              "      <td>S</td>\n",
              "      <td>NaN</td>\n",
              "      <td>NaN</td>\n",
              "      <td>Montreal, PQ / Chesterville, ON</td>\n",
              "    </tr>\n",
              "    <tr>\n",
              "      <th>3</th>\n",
              "      <td>1</td>\n",
              "      <td>0</td>\n",
              "      <td>Allison, Mr. Hudson Joshua Creighton</td>\n",
              "      <td>male</td>\n",
              "      <td>30.0000</td>\n",
              "      <td>1</td>\n",
              "      <td>2</td>\n",
              "      <td>113781</td>\n",
              "      <td>151.5500</td>\n",
              "      <td>C22 C26</td>\n",
              "      <td>S</td>\n",
              "      <td>NaN</td>\n",
              "      <td>135.0</td>\n",
              "      <td>Montreal, PQ / Chesterville, ON</td>\n",
              "    </tr>\n",
              "    <tr>\n",
              "      <th>4</th>\n",
              "      <td>1</td>\n",
              "      <td>0</td>\n",
              "      <td>Allison, Mrs. Hudson J C (Bessie Waldo Daniels)</td>\n",
              "      <td>female</td>\n",
              "      <td>25.0000</td>\n",
              "      <td>1</td>\n",
              "      <td>2</td>\n",
              "      <td>113781</td>\n",
              "      <td>151.5500</td>\n",
              "      <td>C22 C26</td>\n",
              "      <td>S</td>\n",
              "      <td>NaN</td>\n",
              "      <td>NaN</td>\n",
              "      <td>Montreal, PQ / Chesterville, ON</td>\n",
              "    </tr>\n",
              "  </tbody>\n",
              "</table>\n",
              "</div>"
            ],
            "text/plain": [
              "   pclass  survived  ...   body                        home.dest\n",
              "0       1         1  ...    NaN                     St Louis, MO\n",
              "1       1         1  ...    NaN  Montreal, PQ / Chesterville, ON\n",
              "2       1         0  ...    NaN  Montreal, PQ / Chesterville, ON\n",
              "3       1         0  ...  135.0  Montreal, PQ / Chesterville, ON\n",
              "4       1         0  ...    NaN  Montreal, PQ / Chesterville, ON\n",
              "\n",
              "[5 rows x 14 columns]"
            ]
          },
          "metadata": {
            "tags": []
          },
          "execution_count": 3
        }
      ]
    },
    {
      "cell_type": "code",
      "metadata": {
        "id": "MRo3F1FJEYzg"
      },
      "source": [
        "data2=pd.read_csv('customer-churn-model/Customer Churn Model.txt')"
      ],
      "execution_count": null,
      "outputs": []
    },
    {
      "cell_type": "code",
      "metadata": {
        "id": "XGG9V7dKC4Sv",
        "colab": {
          "base_uri": "https://localhost:8080/"
        },
        "outputId": "4a052f5b-c529-4130-91e3-9dda59d9ac75"
      },
      "source": [
        "data2.columns.values"
      ],
      "execution_count": null,
      "outputs": [
        {
          "output_type": "execute_result",
          "data": {
            "text/plain": [
              "array(['State', 'Account Length', 'Area Code', 'Phone', \"Int'l Plan\",\n",
              "       'VMail Plan', 'VMail Message', 'Day Mins', 'Day Calls',\n",
              "       'Day Charge', 'Eve Mins', 'Eve Calls', 'Eve Charge', 'Night Mins',\n",
              "       'Night Calls', 'Night Charge', 'Intl Mins', 'Intl Calls',\n",
              "       'Intl Charge', 'CustServ Calls', 'Churn?'], dtype=object)"
            ]
          },
          "metadata": {
            "tags": []
          },
          "execution_count": 5
        }
      ]
    },
    {
      "cell_type": "code",
      "metadata": {
        "colab": {
          "base_uri": "https://localhost:8080/"
        },
        "id": "39R-J7riGjLS",
        "outputId": "899039b9-c38a-4bce-e784-29f4bf944ffc"
      },
      "source": [
        "data_cols=pd.read_csv('customer-churn-model/Customer Churn Columns.csv')\n",
        "data_col_list=data_cols[\"Column_Names\"].tolist()\n",
        "data2=pd.read_csv('customer-churn-model/Customer Churn Model.txt',\n",
        "                  header=None, names=data_col_list)\n",
        "data2.columns.values"
      ],
      "execution_count": null,
      "outputs": [
        {
          "output_type": "execute_result",
          "data": {
            "text/plain": [
              "array(['A', 'B', 'C', 'D', 'E', 'F', 'G', 'H', 'I', 'J', 'K', 'L', 'M',\n",
              "       'N', 'O', 'P', 'Q', 'R', 'S', 'T', 'U'], dtype=object)"
            ]
          },
          "metadata": {
            "tags": []
          },
          "execution_count": 6
        }
      ]
    },
    {
      "cell_type": "markdown",
      "metadata": {
        "id": "oFkTrMl0H-nH"
      },
      "source": [
        "### Carga de datos con la función Open"
      ]
    },
    {
      "cell_type": "code",
      "metadata": {
        "id": "XtgZoUigHgyw"
      },
      "source": [
        "data3=open('customer-churn-model/Customer Churn Model.txt','r')"
      ],
      "execution_count": null,
      "outputs": []
    },
    {
      "cell_type": "code",
      "metadata": {
        "id": "XlTASYRdIduU"
      },
      "source": [
        "# readline me permite leer cada registro\n",
        "# strip me permite eliminar los espacios en blanco\n",
        "# split me permite dividir la columna por un delimitador\n",
        "cols=data3.readline().strip().split(',')\n",
        "ncols=len(cols)"
      ],
      "execution_count": null,
      "outputs": []
    },
    {
      "cell_type": "code",
      "metadata": {
        "id": "K-VRLK6uIoTQ"
      },
      "source": [
        "counter=0\n",
        "main_dict={}\n",
        "for col in cols:\n",
        "  main_dict[col]=[]"
      ],
      "execution_count": null,
      "outputs": []
    },
    {
      "cell_type": "code",
      "metadata": {
        "colab": {
          "base_uri": "https://localhost:8080/"
        },
        "id": "lO-GAK8Wo9Lb",
        "outputId": "b96194ac-cabb-4715-d93a-7765cdbe098d"
      },
      "source": [
        "for line in data3:\n",
        "  values=line.strip().split(\",\")\n",
        "  for i in range(len(cols)):\n",
        "    main_dict[cols[i]].append(values[i])\n",
        "  counter += 1\n",
        "\n",
        "print(\"El data set tiene %d filas y %d columnas\"%(counter,ncols))"
      ],
      "execution_count": null,
      "outputs": [
        {
          "output_type": "stream",
          "text": [
            "El data set tiene 3333 filas y 21 columnas\n"
          ],
          "name": "stdout"
        }
      ]
    },
    {
      "cell_type": "code",
      "metadata": {
        "colab": {
          "base_uri": "https://localhost:8080/",
          "height": 326
        },
        "id": "yU_6RUjuptBp",
        "outputId": "31c91838-a27b-4b26-cf15-bdfcdc82bca9"
      },
      "source": [
        "df3=pd.DataFrame(main_dict)\n",
        "df3.head()"
      ],
      "execution_count": null,
      "outputs": [
        {
          "output_type": "execute_result",
          "data": {
            "text/html": [
              "<div>\n",
              "<style scoped>\n",
              "    .dataframe tbody tr th:only-of-type {\n",
              "        vertical-align: middle;\n",
              "    }\n",
              "\n",
              "    .dataframe tbody tr th {\n",
              "        vertical-align: top;\n",
              "    }\n",
              "\n",
              "    .dataframe thead th {\n",
              "        text-align: right;\n",
              "    }\n",
              "</style>\n",
              "<table border=\"1\" class=\"dataframe\">\n",
              "  <thead>\n",
              "    <tr style=\"text-align: right;\">\n",
              "      <th></th>\n",
              "      <th>State</th>\n",
              "      <th>Account Length</th>\n",
              "      <th>Area Code</th>\n",
              "      <th>Phone</th>\n",
              "      <th>Int'l Plan</th>\n",
              "      <th>VMail Plan</th>\n",
              "      <th>VMail Message</th>\n",
              "      <th>Day Mins</th>\n",
              "      <th>Day Calls</th>\n",
              "      <th>Day Charge</th>\n",
              "      <th>Eve Mins</th>\n",
              "      <th>Eve Calls</th>\n",
              "      <th>Eve Charge</th>\n",
              "      <th>Night Mins</th>\n",
              "      <th>Night Calls</th>\n",
              "      <th>Night Charge</th>\n",
              "      <th>Intl Mins</th>\n",
              "      <th>Intl Calls</th>\n",
              "      <th>Intl Charge</th>\n",
              "      <th>CustServ Calls</th>\n",
              "      <th>Churn?</th>\n",
              "    </tr>\n",
              "  </thead>\n",
              "  <tbody>\n",
              "    <tr>\n",
              "      <th>0</th>\n",
              "      <td>KS</td>\n",
              "      <td>128</td>\n",
              "      <td>415</td>\n",
              "      <td>382-4657</td>\n",
              "      <td>no</td>\n",
              "      <td>yes</td>\n",
              "      <td>25</td>\n",
              "      <td>265.100000</td>\n",
              "      <td>110</td>\n",
              "      <td>45.070000</td>\n",
              "      <td>197.400000</td>\n",
              "      <td>99</td>\n",
              "      <td>16.780000</td>\n",
              "      <td>244.700000</td>\n",
              "      <td>91</td>\n",
              "      <td>11.010000</td>\n",
              "      <td>10.000000</td>\n",
              "      <td>3</td>\n",
              "      <td>2.700000</td>\n",
              "      <td>1</td>\n",
              "      <td>False.</td>\n",
              "    </tr>\n",
              "    <tr>\n",
              "      <th>1</th>\n",
              "      <td>OH</td>\n",
              "      <td>107</td>\n",
              "      <td>415</td>\n",
              "      <td>371-7191</td>\n",
              "      <td>no</td>\n",
              "      <td>yes</td>\n",
              "      <td>26</td>\n",
              "      <td>161.600000</td>\n",
              "      <td>123</td>\n",
              "      <td>27.470000</td>\n",
              "      <td>195.500000</td>\n",
              "      <td>103</td>\n",
              "      <td>16.620000</td>\n",
              "      <td>254.400000</td>\n",
              "      <td>103</td>\n",
              "      <td>11.450000</td>\n",
              "      <td>13.700000</td>\n",
              "      <td>3</td>\n",
              "      <td>3.700000</td>\n",
              "      <td>1</td>\n",
              "      <td>False.</td>\n",
              "    </tr>\n",
              "    <tr>\n",
              "      <th>2</th>\n",
              "      <td>NJ</td>\n",
              "      <td>137</td>\n",
              "      <td>415</td>\n",
              "      <td>358-1921</td>\n",
              "      <td>no</td>\n",
              "      <td>no</td>\n",
              "      <td>0</td>\n",
              "      <td>243.400000</td>\n",
              "      <td>114</td>\n",
              "      <td>41.380000</td>\n",
              "      <td>121.200000</td>\n",
              "      <td>110</td>\n",
              "      <td>10.300000</td>\n",
              "      <td>162.600000</td>\n",
              "      <td>104</td>\n",
              "      <td>7.320000</td>\n",
              "      <td>12.200000</td>\n",
              "      <td>5</td>\n",
              "      <td>3.290000</td>\n",
              "      <td>0</td>\n",
              "      <td>False.</td>\n",
              "    </tr>\n",
              "    <tr>\n",
              "      <th>3</th>\n",
              "      <td>OH</td>\n",
              "      <td>84</td>\n",
              "      <td>408</td>\n",
              "      <td>375-9999</td>\n",
              "      <td>yes</td>\n",
              "      <td>no</td>\n",
              "      <td>0</td>\n",
              "      <td>299.400000</td>\n",
              "      <td>71</td>\n",
              "      <td>50.900000</td>\n",
              "      <td>61.900000</td>\n",
              "      <td>88</td>\n",
              "      <td>5.260000</td>\n",
              "      <td>196.900000</td>\n",
              "      <td>89</td>\n",
              "      <td>8.860000</td>\n",
              "      <td>6.600000</td>\n",
              "      <td>7</td>\n",
              "      <td>1.780000</td>\n",
              "      <td>2</td>\n",
              "      <td>False.</td>\n",
              "    </tr>\n",
              "    <tr>\n",
              "      <th>4</th>\n",
              "      <td>OK</td>\n",
              "      <td>75</td>\n",
              "      <td>415</td>\n",
              "      <td>330-6626</td>\n",
              "      <td>yes</td>\n",
              "      <td>no</td>\n",
              "      <td>0</td>\n",
              "      <td>166.700000</td>\n",
              "      <td>113</td>\n",
              "      <td>28.340000</td>\n",
              "      <td>148.300000</td>\n",
              "      <td>122</td>\n",
              "      <td>12.610000</td>\n",
              "      <td>186.900000</td>\n",
              "      <td>121</td>\n",
              "      <td>8.410000</td>\n",
              "      <td>10.100000</td>\n",
              "      <td>3</td>\n",
              "      <td>2.730000</td>\n",
              "      <td>3</td>\n",
              "      <td>False.</td>\n",
              "    </tr>\n",
              "  </tbody>\n",
              "</table>\n",
              "</div>"
            ],
            "text/plain": [
              "  State Account Length Area Code  ... Intl Charge CustServ Calls  Churn?\n",
              "0    KS            128       415  ...    2.700000              1  False.\n",
              "1    OH            107       415  ...    3.700000              1  False.\n",
              "2    NJ            137       415  ...    3.290000              0  False.\n",
              "3    OH             84       408  ...    1.780000              2  False.\n",
              "4    OK             75       415  ...    2.730000              3  False.\n",
              "\n",
              "[5 rows x 21 columns]"
            ]
          },
          "metadata": {
            "tags": []
          },
          "execution_count": 11
        }
      ]
    },
    {
      "cell_type": "markdown",
      "metadata": {
        "id": "iC-jQd2cxk-O"
      },
      "source": [
        "### Ficheros xls y xlsx"
      ]
    },
    {
      "cell_type": "code",
      "metadata": {
        "id": "eq1Bqo9Yr2d4"
      },
      "source": [
        "titanic2=pd.read_excel('titanic/titanic3.xls','titanic3')"
      ],
      "execution_count": null,
      "outputs": []
    },
    {
      "cell_type": "code",
      "metadata": {
        "id": "0Nse-TpxyCxm"
      },
      "source": [
        "titanic3=pd.read_excel('titanic/titanic3.xlsx','titanic3')"
      ],
      "execution_count": null,
      "outputs": []
    },
    {
      "cell_type": "code",
      "metadata": {
        "id": "rxNVnLV1zB1U"
      },
      "source": [
        "titanic3.to_csv('titanic/titanic_custom_gap.csv')"
      ],
      "execution_count": null,
      "outputs": []
    },
    {
      "cell_type": "code",
      "metadata": {
        "id": "nTuNMNrPzUl2"
      },
      "source": [
        "titanic3.to_excel('titanic/titanic_custom_gap.xls')"
      ],
      "execution_count": null,
      "outputs": []
    },
    {
      "cell_type": "code",
      "metadata": {
        "id": "9tjGD-xfFiiM"
      },
      "source": [
        "titanic3.to_json('titanic/titanic_custom_json_gap.json')"
      ],
      "execution_count": null,
      "outputs": []
    },
    {
      "cell_type": "markdown",
      "metadata": {
        "id": "VPyTY6PgGinF"
      },
      "source": [
        "# FIN !!!"
      ]
    }
  ]
}