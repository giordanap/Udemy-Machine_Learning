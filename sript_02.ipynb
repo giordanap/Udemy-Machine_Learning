{
  "nbformat": 4,
  "nbformat_minor": 0,
  "metadata": {
    "colab": {
      "name": "sript_02.ipynb",
      "provenance": [],
      "collapsed_sections": [],
      "authorship_tag": "ABX9TyMr90PmaKxjhIM2cHM+kydV",
      "include_colab_link": true
    },
    "kernelspec": {
      "name": "python3",
      "display_name": "Python 3"
    }
  },
  "cells": [
    {
      "cell_type": "markdown",
      "metadata": {
        "id": "view-in-github",
        "colab_type": "text"
      },
      "source": [
        "<a href=\"https://colab.research.google.com/github/giordanap/Udemy-Machine_Learning/blob/main/sript_02.ipynb\" target=\"_parent\"><img src=\"https://colab.research.google.com/assets/colab-badge.svg\" alt=\"Open In Colab\"/></a>"
      ]
    },
    {
      "cell_type": "code",
      "metadata": {
        "id": "M-tZ4VoZBak3",
        "colab": {
          "base_uri": "https://localhost:8080/"
        },
        "outputId": "c1e62937-b69f-4404-8f2a-45652e379d9f"
      },
      "source": [
        "# librerías\n",
        "import pandas as pd\n",
        "\n",
        "# importar archivo de google drive\n",
        "from google.colab import drive\n",
        "import os\n",
        "drive.mount('/content/drive/')\n",
        "# os.getcwd()\n",
        "os.chdir('/content/drive/My Drive/Academico/Udemy/GitHub/datasets/')"
      ],
      "execution_count": 1,
      "outputs": [
        {
          "output_type": "stream",
          "text": [
            "Mounted at /content/drive/\n"
          ],
          "name": "stdout"
        }
      ]
    },
    {
      "cell_type": "code",
      "metadata": {
        "id": "Y_uJp5NLAnKm"
      },
      "source": [
        "# Lectura de datos\n",
        "data = pd.read_csv('titanic/titanic3.csv')\n"
      ],
      "execution_count": 2,
      "outputs": []
    },
    {
      "cell_type": "code",
      "metadata": {
        "colab": {
          "base_uri": "https://localhost:8080/",
          "height": 111
        },
        "id": "1ygTElg-NTd_",
        "outputId": "60c45350-c23f-4043-bd1b-d46a509a60fa"
      },
      "source": [
        "data.head(2)"
      ],
      "execution_count": 5,
      "outputs": [
        {
          "output_type": "execute_result",
          "data": {
            "text/html": [
              "<div>\n",
              "<style scoped>\n",
              "    .dataframe tbody tr th:only-of-type {\n",
              "        vertical-align: middle;\n",
              "    }\n",
              "\n",
              "    .dataframe tbody tr th {\n",
              "        vertical-align: top;\n",
              "    }\n",
              "\n",
              "    .dataframe thead th {\n",
              "        text-align: right;\n",
              "    }\n",
              "</style>\n",
              "<table border=\"1\" class=\"dataframe\">\n",
              "  <thead>\n",
              "    <tr style=\"text-align: right;\">\n",
              "      <th></th>\n",
              "      <th>pclass</th>\n",
              "      <th>survived</th>\n",
              "      <th>name</th>\n",
              "      <th>sex</th>\n",
              "      <th>age</th>\n",
              "      <th>sibsp</th>\n",
              "      <th>parch</th>\n",
              "      <th>ticket</th>\n",
              "      <th>fare</th>\n",
              "      <th>cabin</th>\n",
              "      <th>embarked</th>\n",
              "      <th>boat</th>\n",
              "      <th>body</th>\n",
              "      <th>home.dest</th>\n",
              "    </tr>\n",
              "  </thead>\n",
              "  <tbody>\n",
              "    <tr>\n",
              "      <th>0</th>\n",
              "      <td>1</td>\n",
              "      <td>1</td>\n",
              "      <td>Allen, Miss. Elisabeth Walton</td>\n",
              "      <td>female</td>\n",
              "      <td>29.0000</td>\n",
              "      <td>0</td>\n",
              "      <td>0</td>\n",
              "      <td>24160</td>\n",
              "      <td>211.3375</td>\n",
              "      <td>B5</td>\n",
              "      <td>S</td>\n",
              "      <td>2</td>\n",
              "      <td>NaN</td>\n",
              "      <td>St Louis, MO</td>\n",
              "    </tr>\n",
              "    <tr>\n",
              "      <th>1</th>\n",
              "      <td>1</td>\n",
              "      <td>1</td>\n",
              "      <td>Allison, Master. Hudson Trevor</td>\n",
              "      <td>male</td>\n",
              "      <td>0.9167</td>\n",
              "      <td>1</td>\n",
              "      <td>2</td>\n",
              "      <td>113781</td>\n",
              "      <td>151.5500</td>\n",
              "      <td>C22 C26</td>\n",
              "      <td>S</td>\n",
              "      <td>11</td>\n",
              "      <td>NaN</td>\n",
              "      <td>Montreal, PQ / Chesterville, ON</td>\n",
              "    </tr>\n",
              "  </tbody>\n",
              "</table>\n",
              "</div>"
            ],
            "text/plain": [
              "   pclass  survived  ... body                        home.dest\n",
              "0       1         1  ...  NaN                     St Louis, MO\n",
              "1       1         1  ...  NaN  Montreal, PQ / Chesterville, ON\n",
              "\n",
              "[2 rows x 14 columns]"
            ]
          },
          "metadata": {
            "tags": []
          },
          "execution_count": 5
        }
      ]
    },
    {
      "cell_type": "code",
      "metadata": {
        "colab": {
          "base_uri": "https://localhost:8080/"
        },
        "id": "m4s0gbrqNVsc",
        "outputId": "cb85eeb9-1fee-493e-9d5a-95a13fcea223"
      },
      "source": [
        "data.shape"
      ],
      "execution_count": 6,
      "outputs": [
        {
          "output_type": "execute_result",
          "data": {
            "text/plain": [
              "(1309, 14)"
            ]
          },
          "metadata": {
            "tags": []
          },
          "execution_count": 6
        }
      ]
    },
    {
      "cell_type": "code",
      "metadata": {
        "colab": {
          "base_uri": "https://localhost:8080/"
        },
        "id": "dcABL3kVNeKW",
        "outputId": "65307070-4d54-4de2-bd44-4bc5f27ff05e"
      },
      "source": [
        "data.columns.values"
      ],
      "execution_count": 7,
      "outputs": [
        {
          "output_type": "execute_result",
          "data": {
            "text/plain": [
              "array(['pclass', 'survived', 'name', 'sex', 'age', 'sibsp', 'parch',\n",
              "       'ticket', 'fare', 'cabin', 'embarked', 'boat', 'body', 'home.dest'],\n",
              "      dtype=object)"
            ]
          },
          "metadata": {
            "tags": []
          },
          "execution_count": 7
        }
      ]
    },
    {
      "cell_type": "code",
      "metadata": {
        "colab": {
          "base_uri": "https://localhost:8080/",
          "height": 297
        },
        "id": "QjyIMlfRNmHV",
        "outputId": "4fa9dd02-a94a-4ff2-c053-89b837129905"
      },
      "source": [
        "data.describe()"
      ],
      "execution_count": 8,
      "outputs": [
        {
          "output_type": "execute_result",
          "data": {
            "text/html": [
              "<div>\n",
              "<style scoped>\n",
              "    .dataframe tbody tr th:only-of-type {\n",
              "        vertical-align: middle;\n",
              "    }\n",
              "\n",
              "    .dataframe tbody tr th {\n",
              "        vertical-align: top;\n",
              "    }\n",
              "\n",
              "    .dataframe thead th {\n",
              "        text-align: right;\n",
              "    }\n",
              "</style>\n",
              "<table border=\"1\" class=\"dataframe\">\n",
              "  <thead>\n",
              "    <tr style=\"text-align: right;\">\n",
              "      <th></th>\n",
              "      <th>pclass</th>\n",
              "      <th>survived</th>\n",
              "      <th>age</th>\n",
              "      <th>sibsp</th>\n",
              "      <th>parch</th>\n",
              "      <th>fare</th>\n",
              "      <th>body</th>\n",
              "    </tr>\n",
              "  </thead>\n",
              "  <tbody>\n",
              "    <tr>\n",
              "      <th>count</th>\n",
              "      <td>1309.000000</td>\n",
              "      <td>1309.000000</td>\n",
              "      <td>1046.000000</td>\n",
              "      <td>1309.000000</td>\n",
              "      <td>1309.000000</td>\n",
              "      <td>1308.000000</td>\n",
              "      <td>121.000000</td>\n",
              "    </tr>\n",
              "    <tr>\n",
              "      <th>mean</th>\n",
              "      <td>2.294882</td>\n",
              "      <td>0.381971</td>\n",
              "      <td>29.881135</td>\n",
              "      <td>0.498854</td>\n",
              "      <td>0.385027</td>\n",
              "      <td>33.295479</td>\n",
              "      <td>160.809917</td>\n",
              "    </tr>\n",
              "    <tr>\n",
              "      <th>std</th>\n",
              "      <td>0.837836</td>\n",
              "      <td>0.486055</td>\n",
              "      <td>14.413500</td>\n",
              "      <td>1.041658</td>\n",
              "      <td>0.865560</td>\n",
              "      <td>51.758668</td>\n",
              "      <td>97.696922</td>\n",
              "    </tr>\n",
              "    <tr>\n",
              "      <th>min</th>\n",
              "      <td>1.000000</td>\n",
              "      <td>0.000000</td>\n",
              "      <td>0.166700</td>\n",
              "      <td>0.000000</td>\n",
              "      <td>0.000000</td>\n",
              "      <td>0.000000</td>\n",
              "      <td>1.000000</td>\n",
              "    </tr>\n",
              "    <tr>\n",
              "      <th>25%</th>\n",
              "      <td>2.000000</td>\n",
              "      <td>0.000000</td>\n",
              "      <td>21.000000</td>\n",
              "      <td>0.000000</td>\n",
              "      <td>0.000000</td>\n",
              "      <td>7.895800</td>\n",
              "      <td>72.000000</td>\n",
              "    </tr>\n",
              "    <tr>\n",
              "      <th>50%</th>\n",
              "      <td>3.000000</td>\n",
              "      <td>0.000000</td>\n",
              "      <td>28.000000</td>\n",
              "      <td>0.000000</td>\n",
              "      <td>0.000000</td>\n",
              "      <td>14.454200</td>\n",
              "      <td>155.000000</td>\n",
              "    </tr>\n",
              "    <tr>\n",
              "      <th>75%</th>\n",
              "      <td>3.000000</td>\n",
              "      <td>1.000000</td>\n",
              "      <td>39.000000</td>\n",
              "      <td>1.000000</td>\n",
              "      <td>0.000000</td>\n",
              "      <td>31.275000</td>\n",
              "      <td>256.000000</td>\n",
              "    </tr>\n",
              "    <tr>\n",
              "      <th>max</th>\n",
              "      <td>3.000000</td>\n",
              "      <td>1.000000</td>\n",
              "      <td>80.000000</td>\n",
              "      <td>8.000000</td>\n",
              "      <td>9.000000</td>\n",
              "      <td>512.329200</td>\n",
              "      <td>328.000000</td>\n",
              "    </tr>\n",
              "  </tbody>\n",
              "</table>\n",
              "</div>"
            ],
            "text/plain": [
              "            pclass     survived  ...         fare        body\n",
              "count  1309.000000  1309.000000  ...  1308.000000  121.000000\n",
              "mean      2.294882     0.381971  ...    33.295479  160.809917\n",
              "std       0.837836     0.486055  ...    51.758668   97.696922\n",
              "min       1.000000     0.000000  ...     0.000000    1.000000\n",
              "25%       2.000000     0.000000  ...     7.895800   72.000000\n",
              "50%       3.000000     0.000000  ...    14.454200  155.000000\n",
              "75%       3.000000     1.000000  ...    31.275000  256.000000\n",
              "max       3.000000     1.000000  ...   512.329200  328.000000\n",
              "\n",
              "[8 rows x 7 columns]"
            ]
          },
          "metadata": {
            "tags": []
          },
          "execution_count": 8
        }
      ]
    },
    {
      "cell_type": "code",
      "metadata": {
        "colab": {
          "base_uri": "https://localhost:8080/"
        },
        "id": "IiM9r2I8OEkH",
        "outputId": "dbbeb52b-9617-4ec1-fc0d-bc7b43907d7d"
      },
      "source": [
        "data.dtypes"
      ],
      "execution_count": 9,
      "outputs": [
        {
          "output_type": "execute_result",
          "data": {
            "text/plain": [
              "pclass         int64\n",
              "survived       int64\n",
              "name          object\n",
              "sex           object\n",
              "age          float64\n",
              "sibsp          int64\n",
              "parch          int64\n",
              "ticket        object\n",
              "fare         float64\n",
              "cabin         object\n",
              "embarked      object\n",
              "boat          object\n",
              "body         float64\n",
              "home.dest     object\n",
              "dtype: object"
            ]
          },
          "metadata": {
            "tags": []
          },
          "execution_count": 9
        }
      ]
    },
    {
      "cell_type": "markdown",
      "metadata": {
        "id": "ZpxDYag-OSFU"
      },
      "source": [
        "### Missing"
      ]
    },
    {
      "cell_type": "code",
      "metadata": {
        "colab": {
          "base_uri": "https://localhost:8080/"
        },
        "id": "xydcauZMOG-8",
        "outputId": "0d7badc0-f39b-4a79-fa33-85baa6368805"
      },
      "source": [
        "pd.isnull(data['body']).values.ravel().sum() ## pd.notnull(data['body']) ## será lo opuesto\n",
        "## el método values devuelve los valores enlistados.\n",
        "## ravel permite dividir cada registro de manera independiente, asegurando un dato por linea, en caso un dato ocupara dos líneas.\n",
        "## True (1) y False (0)."
      ],
      "execution_count": 12,
      "outputs": [
        {
          "output_type": "execute_result",
          "data": {
            "text/plain": [
              "1188"
            ]
          },
          "metadata": {
            "tags": []
          },
          "execution_count": 12
        }
      ]
    },
    {
      "cell_type": "markdown",
      "metadata": {
        "id": "Jmw0_d8hRNzU"
      },
      "source": [
        "![image.png](data:image/png;base64,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)"
      ]
    },
    {
      "cell_type": "markdown",
      "metadata": {
        "id": "EFhIOcytU5cU"
      },
      "source": [
        "### Borrado de valores que faltan"
      ]
    },
    {
      "cell_type": "code",
      "metadata": {
        "colab": {
          "base_uri": "https://localhost:8080/"
        },
        "id": "ApFygCkcOljD",
        "outputId": "ba63b682-e0e4-47df-e3d4-820842c85a82"
      },
      "source": [
        "data.dropna(axis=0,how='all').shape"
      ],
      "execution_count": 18,
      "outputs": [
        {
          "output_type": "execute_result",
          "data": {
            "text/plain": [
              "(1309, 14)"
            ]
          },
          "metadata": {
            "tags": []
          },
          "execution_count": 18
        }
      ]
    },
    {
      "cell_type": "code",
      "metadata": {
        "id": "UYwcUO5sWDzF"
      },
      "source": [
        "data2=data"
      ],
      "execution_count": 15,
      "outputs": []
    },
    {
      "cell_type": "code",
      "metadata": {
        "colab": {
          "base_uri": "https://localhost:8080/"
        },
        "id": "XTmVjRWWWPa1",
        "outputId": "15d72611-ad90-4b2f-b9be-dbabe2ede3fc"
      },
      "source": [
        "data2.dropna(axis=0,how='any').shape"
      ],
      "execution_count": 19,
      "outputs": [
        {
          "output_type": "execute_result",
          "data": {
            "text/plain": [
              "(0, 14)"
            ]
          },
          "metadata": {
            "tags": []
          },
          "execution_count": 19
        }
      ]
    },
    {
      "cell_type": "code",
      "metadata": {
        "id": "hKSuLcxeWYKs"
      },
      "source": [
        "data3=data"
      ],
      "execution_count": 20,
      "outputs": []
    },
    {
      "cell_type": "code",
      "metadata": {
        "colab": {
          "base_uri": "https://localhost:8080/",
          "height": 111
        },
        "id": "beIIcOg7WkBL",
        "outputId": "8c8bf236-70bb-441f-bff8-4dd942602cb7"
      },
      "source": [
        "data3.fillna(0).head(2)"
      ],
      "execution_count": 24,
      "outputs": [
        {
          "output_type": "execute_result",
          "data": {
            "text/html": [
              "<div>\n",
              "<style scoped>\n",
              "    .dataframe tbody tr th:only-of-type {\n",
              "        vertical-align: middle;\n",
              "    }\n",
              "\n",
              "    .dataframe tbody tr th {\n",
              "        vertical-align: top;\n",
              "    }\n",
              "\n",
              "    .dataframe thead th {\n",
              "        text-align: right;\n",
              "    }\n",
              "</style>\n",
              "<table border=\"1\" class=\"dataframe\">\n",
              "  <thead>\n",
              "    <tr style=\"text-align: right;\">\n",
              "      <th></th>\n",
              "      <th>pclass</th>\n",
              "      <th>survived</th>\n",
              "      <th>name</th>\n",
              "      <th>sex</th>\n",
              "      <th>age</th>\n",
              "      <th>sibsp</th>\n",
              "      <th>parch</th>\n",
              "      <th>ticket</th>\n",
              "      <th>fare</th>\n",
              "      <th>cabin</th>\n",
              "      <th>embarked</th>\n",
              "      <th>boat</th>\n",
              "      <th>body</th>\n",
              "      <th>home.dest</th>\n",
              "    </tr>\n",
              "  </thead>\n",
              "  <tbody>\n",
              "    <tr>\n",
              "      <th>0</th>\n",
              "      <td>1</td>\n",
              "      <td>1</td>\n",
              "      <td>Allen, Miss. Elisabeth Walton</td>\n",
              "      <td>female</td>\n",
              "      <td>29.0000</td>\n",
              "      <td>0</td>\n",
              "      <td>0</td>\n",
              "      <td>24160</td>\n",
              "      <td>211.3375</td>\n",
              "      <td>B5</td>\n",
              "      <td>S</td>\n",
              "      <td>2</td>\n",
              "      <td>0.0</td>\n",
              "      <td>St Louis, MO</td>\n",
              "    </tr>\n",
              "    <tr>\n",
              "      <th>1</th>\n",
              "      <td>1</td>\n",
              "      <td>1</td>\n",
              "      <td>Allison, Master. Hudson Trevor</td>\n",
              "      <td>male</td>\n",
              "      <td>0.9167</td>\n",
              "      <td>1</td>\n",
              "      <td>2</td>\n",
              "      <td>113781</td>\n",
              "      <td>151.5500</td>\n",
              "      <td>C22 C26</td>\n",
              "      <td>S</td>\n",
              "      <td>11</td>\n",
              "      <td>0.0</td>\n",
              "      <td>Montreal, PQ / Chesterville, ON</td>\n",
              "    </tr>\n",
              "  </tbody>\n",
              "</table>\n",
              "</div>"
            ],
            "text/plain": [
              "   pclass  survived  ... body                        home.dest\n",
              "0       1         1  ...  0.0                     St Louis, MO\n",
              "1       1         1  ...  0.0  Montreal, PQ / Chesterville, ON\n",
              "\n",
              "[2 rows x 14 columns]"
            ]
          },
          "metadata": {
            "tags": []
          },
          "execution_count": 24
        }
      ]
    },
    {
      "cell_type": "code",
      "metadata": {
        "id": "3C6hHudMWoyr"
      },
      "source": [
        "data4=data"
      ],
      "execution_count": 25,
      "outputs": []
    },
    {
      "cell_type": "code",
      "metadata": {
        "colab": {
          "base_uri": "https://localhost:8080/",
          "height": 111
        },
        "id": "wlQiBwwFXV_U",
        "outputId": "fd69dde3-ad07-4d11-eb60-223edd7335ea"
      },
      "source": [
        "data4.fillna('Desconocido').head(2)"
      ],
      "execution_count": 26,
      "outputs": [
        {
          "output_type": "execute_result",
          "data": {
            "text/html": [
              "<div>\n",
              "<style scoped>\n",
              "    .dataframe tbody tr th:only-of-type {\n",
              "        vertical-align: middle;\n",
              "    }\n",
              "\n",
              "    .dataframe tbody tr th {\n",
              "        vertical-align: top;\n",
              "    }\n",
              "\n",
              "    .dataframe thead th {\n",
              "        text-align: right;\n",
              "    }\n",
              "</style>\n",
              "<table border=\"1\" class=\"dataframe\">\n",
              "  <thead>\n",
              "    <tr style=\"text-align: right;\">\n",
              "      <th></th>\n",
              "      <th>pclass</th>\n",
              "      <th>survived</th>\n",
              "      <th>name</th>\n",
              "      <th>sex</th>\n",
              "      <th>age</th>\n",
              "      <th>sibsp</th>\n",
              "      <th>parch</th>\n",
              "      <th>ticket</th>\n",
              "      <th>fare</th>\n",
              "      <th>cabin</th>\n",
              "      <th>embarked</th>\n",
              "      <th>boat</th>\n",
              "      <th>body</th>\n",
              "      <th>home.dest</th>\n",
              "    </tr>\n",
              "  </thead>\n",
              "  <tbody>\n",
              "    <tr>\n",
              "      <th>0</th>\n",
              "      <td>1</td>\n",
              "      <td>1</td>\n",
              "      <td>Allen, Miss. Elisabeth Walton</td>\n",
              "      <td>female</td>\n",
              "      <td>29</td>\n",
              "      <td>0</td>\n",
              "      <td>0</td>\n",
              "      <td>24160</td>\n",
              "      <td>211.338</td>\n",
              "      <td>B5</td>\n",
              "      <td>S</td>\n",
              "      <td>2</td>\n",
              "      <td>Desconocido</td>\n",
              "      <td>St Louis, MO</td>\n",
              "    </tr>\n",
              "    <tr>\n",
              "      <th>1</th>\n",
              "      <td>1</td>\n",
              "      <td>1</td>\n",
              "      <td>Allison, Master. Hudson Trevor</td>\n",
              "      <td>male</td>\n",
              "      <td>0.9167</td>\n",
              "      <td>1</td>\n",
              "      <td>2</td>\n",
              "      <td>113781</td>\n",
              "      <td>151.55</td>\n",
              "      <td>C22 C26</td>\n",
              "      <td>S</td>\n",
              "      <td>11</td>\n",
              "      <td>Desconocido</td>\n",
              "      <td>Montreal, PQ / Chesterville, ON</td>\n",
              "    </tr>\n",
              "  </tbody>\n",
              "</table>\n",
              "</div>"
            ],
            "text/plain": [
              "   pclass  survived  ...         body                        home.dest\n",
              "0       1         1  ...  Desconocido                     St Louis, MO\n",
              "1       1         1  ...  Desconocido  Montreal, PQ / Chesterville, ON\n",
              "\n",
              "[2 rows x 14 columns]"
            ]
          },
          "metadata": {
            "tags": []
          },
          "execution_count": 26
        }
      ]
    },
    {
      "cell_type": "code",
      "metadata": {
        "id": "yqU5btILXcos"
      },
      "source": [
        "data5=data"
      ],
      "execution_count": 27,
      "outputs": []
    },
    {
      "cell_type": "code",
      "metadata": {
        "colab": {
          "base_uri": "https://localhost:8080/",
          "height": 111
        },
        "id": "Dv1gtYbkXf3s",
        "outputId": "0e8b4fd8-7eeb-48f4-df9a-01cb4b9aa938"
      },
      "source": [
        "data5['body']=data5['body'].fillna(0)\n",
        "data5['home.dest']=data5['home.dest'].fillna('Desconocido')\n",
        "data5[12:14]"
      ],
      "execution_count": 35,
      "outputs": [
        {
          "output_type": "execute_result",
          "data": {
            "text/html": [
              "<div>\n",
              "<style scoped>\n",
              "    .dataframe tbody tr th:only-of-type {\n",
              "        vertical-align: middle;\n",
              "    }\n",
              "\n",
              "    .dataframe tbody tr th {\n",
              "        vertical-align: top;\n",
              "    }\n",
              "\n",
              "    .dataframe thead th {\n",
              "        text-align: right;\n",
              "    }\n",
              "</style>\n",
              "<table border=\"1\" class=\"dataframe\">\n",
              "  <thead>\n",
              "    <tr style=\"text-align: right;\">\n",
              "      <th></th>\n",
              "      <th>pclass</th>\n",
              "      <th>survived</th>\n",
              "      <th>name</th>\n",
              "      <th>sex</th>\n",
              "      <th>age</th>\n",
              "      <th>sibsp</th>\n",
              "      <th>parch</th>\n",
              "      <th>ticket</th>\n",
              "      <th>fare</th>\n",
              "      <th>cabin</th>\n",
              "      <th>embarked</th>\n",
              "      <th>boat</th>\n",
              "      <th>body</th>\n",
              "      <th>home.dest</th>\n",
              "    </tr>\n",
              "  </thead>\n",
              "  <tbody>\n",
              "    <tr>\n",
              "      <th>12</th>\n",
              "      <td>1</td>\n",
              "      <td>1</td>\n",
              "      <td>Aubart, Mme. Leontine Pauline</td>\n",
              "      <td>female</td>\n",
              "      <td>24.0</td>\n",
              "      <td>0</td>\n",
              "      <td>0</td>\n",
              "      <td>PC 17477</td>\n",
              "      <td>69.30</td>\n",
              "      <td>B35</td>\n",
              "      <td>C</td>\n",
              "      <td>9</td>\n",
              "      <td>0.0</td>\n",
              "      <td>Paris, France</td>\n",
              "    </tr>\n",
              "    <tr>\n",
              "      <th>13</th>\n",
              "      <td>1</td>\n",
              "      <td>1</td>\n",
              "      <td>Barber, Miss. Ellen \"Nellie\"</td>\n",
              "      <td>female</td>\n",
              "      <td>26.0</td>\n",
              "      <td>0</td>\n",
              "      <td>0</td>\n",
              "      <td>19877</td>\n",
              "      <td>78.85</td>\n",
              "      <td>NaN</td>\n",
              "      <td>S</td>\n",
              "      <td>6</td>\n",
              "      <td>0.0</td>\n",
              "      <td>Desconocido</td>\n",
              "    </tr>\n",
              "  </tbody>\n",
              "</table>\n",
              "</div>"
            ],
            "text/plain": [
              "    pclass  survived                           name  ... boat  body      home.dest\n",
              "12       1         1  Aubart, Mme. Leontine Pauline  ...    9   0.0  Paris, France\n",
              "13       1         1   Barber, Miss. Ellen \"Nellie\"  ...    6   0.0    Desconocido\n",
              "\n",
              "[2 rows x 14 columns]"
            ]
          },
          "metadata": {
            "tags": []
          },
          "execution_count": 35
        }
      ]
    },
    {
      "cell_type": "code",
      "metadata": {
        "colab": {
          "base_uri": "https://localhost:8080/"
        },
        "id": "5Za9gHmBX8z9",
        "outputId": "2c625685-342f-47f9-f4b7-f46086a7eb96"
      },
      "source": [
        "pd.isnull(data5['age']).values.ravel().sum()"
      ],
      "execution_count": 36,
      "outputs": [
        {
          "output_type": "execute_result",
          "data": {
            "text/plain": [
              "263"
            ]
          },
          "metadata": {
            "tags": []
          },
          "execution_count": 36
        }
      ]
    },
    {
      "cell_type": "code",
      "metadata": {
        "colab": {
          "base_uri": "https://localhost:8080/"
        },
        "id": "J5lnm4YYYmiY",
        "outputId": "26b6ab87-26b0-4521-8fd3-b2d49773cb77"
      },
      "source": [
        "data5['age'].fillna(data['age'].mean()).values[0:10]"
      ],
      "execution_count": 39,
      "outputs": [
        {
          "output_type": "execute_result",
          "data": {
            "text/plain": [
              "array([29.    ,  0.9167,  2.    , 30.    , 25.    , 48.    , 63.    ,\n",
              "       39.    , 53.    , 71.    ])"
            ]
          },
          "metadata": {
            "tags": []
          },
          "execution_count": 39
        }
      ]
    },
    {
      "cell_type": "code",
      "metadata": {
        "colab": {
          "base_uri": "https://localhost:8080/"
        },
        "id": "dq28jsEZYws6",
        "outputId": "d0814290-1682-4527-b216-e3a30210ce85"
      },
      "source": [
        "data5['age'][1291]"
      ],
      "execution_count": 40,
      "outputs": [
        {
          "output_type": "execute_result",
          "data": {
            "text/plain": [
              "nan"
            ]
          },
          "metadata": {
            "tags": []
          },
          "execution_count": 40
        }
      ]
    },
    {
      "cell_type": "code",
      "metadata": {
        "colab": {
          "base_uri": "https://localhost:8080/"
        },
        "id": "KTChPG8BZEUb",
        "outputId": "a3d5ba92-7985-4170-c54f-73da02ff34a9"
      },
      "source": [
        "data5['age'].fillna(method='ffill') ## fodwardfill, se remplaza por el primer valor conocido hacia adelante."
      ],
      "execution_count": 43,
      "outputs": [
        {
          "output_type": "execute_result",
          "data": {
            "text/plain": [
              "0       29.0000\n",
              "1        0.9167\n",
              "2        2.0000\n",
              "3       30.0000\n",
              "4       25.0000\n",
              "         ...   \n",
              "1304    14.5000\n",
              "1305    14.5000\n",
              "1306    26.5000\n",
              "1307    27.0000\n",
              "1308    29.0000\n",
              "Name: age, Length: 1309, dtype: float64"
            ]
          },
          "metadata": {
            "tags": []
          },
          "execution_count": 43
        }
      ]
    },
    {
      "cell_type": "code",
      "metadata": {
        "colab": {
          "base_uri": "https://localhost:8080/"
        },
        "id": "tITJLmgyZUmn",
        "outputId": "bd1db9e9-7342-439a-9505-13e8bc774c2d"
      },
      "source": [
        "data5['age'].fillna(method='backfill') ## backwardfill, se remplaza por el primer valor conocido hacia atrás."
      ],
      "execution_count": 44,
      "outputs": [
        {
          "output_type": "execute_result",
          "data": {
            "text/plain": [
              "0       29.0000\n",
              "1        0.9167\n",
              "2        2.0000\n",
              "3       30.0000\n",
              "4       25.0000\n",
              "         ...   \n",
              "1304    14.5000\n",
              "1305    26.5000\n",
              "1306    26.5000\n",
              "1307    27.0000\n",
              "1308    29.0000\n",
              "Name: age, Length: 1309, dtype: float64"
            ]
          },
          "metadata": {
            "tags": []
          },
          "execution_count": 44
        }
      ]
    },
    {
      "cell_type": "code",
      "metadata": {
        "id": "l2y9yvt8Zmc6"
      },
      "source": [
        ""
      ],
      "execution_count": null,
      "outputs": []
    }
  ]
}